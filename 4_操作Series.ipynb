{
 "cells": [
  {
   "cell_type": "code",
   "execution_count": 3,
   "id": "421967cf-9e9e-485c-aa45-5935d77abbaa",
   "metadata": {},
   "outputs": [],
   "source": [
    "import pandas as pd"
   ]
  },
  {
   "cell_type": "markdown",
   "id": "d59608f7-2858-4bd3-bcd9-cc081c8b60eb",
   "metadata": {},
   "source": [
    "# 创建两个Series"
   ]
  },
  {
   "cell_type": "code",
   "execution_count": 4,
   "id": "d4966c8e-c6b6-47cf-ba5a-9a365b834d6f",
   "metadata": {},
   "outputs": [
    {
     "name": "stdout",
     "output_type": "stream",
     "text": [
      "小明    92\n",
      "小红    67\n",
      "小杰    70\n",
      "小丽    88\n",
      "小华    76\n",
      "dtype: int64\n",
      "小明    95\n",
      "小杰    85\n",
      "小宇    60\n",
      "小娟    79\n",
      "小彤    76\n",
      "dtype: int64\n"
     ]
    }
   ],
   "source": [
    "s1 = pd.Series([92,67,70,88,76],index = [\"小明\",\"小红\",\"小杰\",\"小丽\",\"小华\"])\n",
    "s2 = pd.Series([95,85,60,79,76],index = [\"小明\",\"小杰\",\"小宇\",\"小娟\",\"小彤\"])\n",
    "print(s1)\n",
    "print(s2)"
   ]
  },
  {
   "cell_type": "markdown",
   "id": "1c742225-d536-4d0c-ac37-738d07e86173",
   "metadata": {},
   "source": [
    "# 两个Series相加，缺失值用0代替\n"
   ]
  },
  {
   "cell_type": "code",
   "execution_count": 5,
   "id": "c06eab7a-233f-42b6-a9ae-04ea8661dbc4",
   "metadata": {},
   "outputs": [
    {
     "data": {
      "text/plain": [
       "小丽     88.0\n",
       "小华     76.0\n",
       "小娟     79.0\n",
       "小宇     60.0\n",
       "小彤     76.0\n",
       "小明    187.0\n",
       "小杰    155.0\n",
       "小红     67.0\n",
       "dtype: float64"
      ]
     },
     "execution_count": 5,
     "metadata": {},
     "output_type": "execute_result"
    }
   ],
   "source": [
    "s1.add(s2,fill_value = 0)"
   ]
  },
  {
   "cell_type": "markdown",
   "id": "374b0a86-f32a-412c-92dd-1044a3764441",
   "metadata": {},
   "source": [
    "# 输出Series的统计学相关数据\n"
   ]
  },
  {
   "cell_type": "code",
   "execution_count": 6,
   "id": "fd91b699-379b-4ebf-a733-263cdb2c2441",
   "metadata": {},
   "outputs": [
    {
     "data": {
      "text/plain": [
       "count     5.000000\n",
       "mean     78.600000\n",
       "std      10.990905\n",
       "min      67.000000\n",
       "25%      70.000000\n",
       "50%      76.000000\n",
       "75%      88.000000\n",
       "max      92.000000\n",
       "dtype: float64"
      ]
     },
     "execution_count": 6,
     "metadata": {},
     "output_type": "execute_result"
    }
   ],
   "source": [
    "s1.describe()"
   ]
  },
  {
   "cell_type": "markdown",
   "id": "eeee7f06-ea4a-4738-86bf-2a7179b6d397",
   "metadata": {},
   "source": [
    "# 对Series元素进行运算\n"
   ]
  },
  {
   "cell_type": "code",
   "execution_count": 9,
   "id": "0fe79cd4-595c-48ec-84a4-36319bae878d",
   "metadata": {},
   "outputs": [
    {
     "data": {
      "text/plain": [
       "小明    107\n",
       "小红     82\n",
       "小杰     85\n",
       "小丽    103\n",
       "小华     91\n",
       "dtype: int64"
      ]
     },
     "execution_count": 9,
     "metadata": {},
     "output_type": "execute_result"
    }
   ],
   "source": [
    "s1 = s1 + 5\n",
    "s1"
   ]
  },
  {
   "cell_type": "markdown",
   "id": "0b8ff42b-8b64-4895-a258-4b541ce4ea73",
   "metadata": {},
   "source": [
    "# 使用函数分别对Series中元素进行操作。使用apply函数调用函数\n",
    "# 使用apply调用函数时，函数后面不跟括号"
   ]
  },
  {
   "cell_type": "code",
   "execution_count": 11,
   "id": "5c1ded8b-82c7-4e17-8111-d4f039087520",
   "metadata": {},
   "outputs": [
    {
     "data": {
      "text/plain": [
       "小明    A\n",
       "小红    B\n",
       "小杰    B\n",
       "小丽    A\n",
       "小华    A\n",
       "dtype: object"
      ]
     },
     "execution_count": 11,
     "metadata": {},
     "output_type": "execute_result"
    }
   ],
   "source": [
    "def get_grade_from_scores(score):\n",
    "\tif score >= 90:\n",
    "\t\treturn \"A\"\n",
    "\telif score >= 80:\n",
    "\t\treturn \"B\"\n",
    "\telif score >= 70:\n",
    "\t\treturn \"C\"\n",
    "\telse:\n",
    "\t\treturn \"不及格\"\n",
    "s1.apply(get_grade_from_scores)"
   ]
  },
  {
   "cell_type": "code",
   "execution_count": null,
   "id": "8ee7dfbd-4f46-4e51-8550-5354631c282f",
   "metadata": {},
   "outputs": [],
   "source": []
  }
 ],
 "metadata": {
  "kernelspec": {
   "display_name": "Python 3 (ipykernel)",
   "language": "python",
   "name": "python3"
  },
  "language_info": {
   "codemirror_mode": {
    "name": "ipython",
    "version": 3
   },
   "file_extension": ".py",
   "mimetype": "text/x-python",
   "name": "python",
   "nbconvert_exporter": "python",
   "pygments_lexer": "ipython3",
   "version": "3.12.2"
  }
 },
 "nbformat": 4,
 "nbformat_minor": 5
}
