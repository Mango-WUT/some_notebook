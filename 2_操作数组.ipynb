{
 "cells": [
  {
   "cell_type": "code",
   "execution_count": 1,
   "id": "05b1b95f-c442-4949-b080-2bd73a2eebd2",
   "metadata": {},
   "outputs": [],
   "source": [
    "import numpy as np"
   ]
  },
  {
   "cell_type": "code",
   "execution_count": 3,
   "id": "eb338b74-a883-4254-a331-e40d66111de3",
   "metadata": {},
   "outputs": [
    {
     "name": "stdout",
     "output_type": "stream",
     "text": [
      "[1 3 2 4 9]\n",
      "[1. 1. 1. 1. 1.]\n",
      "[0. 0. 0.]\n"
     ]
    }
   ],
   "source": [
    "arr1 = np.array([1,3,2,4,9])\n",
    "arr2 = np.ones(5)\n",
    "arr3 = np.zeros(3)\n",
    "print(arr1)\n",
    "print(arr2)\n",
    "print(arr3)"
   ]
  },
  {
   "cell_type": "markdown",
   "id": "34a098b7-a2c2-4c57-a9dd-b65df3e9c553",
   "metadata": {},
   "source": [
    "# 连接数组"
   ]
  },
  {
   "cell_type": "code",
   "execution_count": 4,
   "id": "eff9f17c-a30e-494c-9b9f-a5f3c13a4100",
   "metadata": {},
   "outputs": [
    {
     "data": {
      "text/plain": [
       "array([1., 3., 2., 4., 9., 1., 1., 1., 1., 1., 0., 0., 0.])"
      ]
     },
     "execution_count": 4,
     "metadata": {},
     "output_type": "execute_result"
    }
   ],
   "source": [
    "arr4 = np.concatenate([arr1,arr2,arr3])\n",
    "arr4"
   ]
  },
  {
   "cell_type": "markdown",
   "id": "8ad884c2-ba72-46bc-bb92-ebc988e45e0f",
   "metadata": {},
   "source": [
    "# 更改数组，对其排序"
   ]
  },
  {
   "cell_type": "code",
   "execution_count": 5,
   "id": "3bbf24ab-4c73-4a1f-beac-ae7bd24ba3b0",
   "metadata": {},
   "outputs": [
    {
     "data": {
      "text/plain": [
       "array([1, 2, 3, 4, 9])"
      ]
     },
     "execution_count": 5,
     "metadata": {},
     "output_type": "execute_result"
    }
   ],
   "source": [
    "arr1.sort()\n",
    "arr1"
   ]
  },
  {
   "cell_type": "markdown",
   "id": "ac787611-7c28-4c51-b8b7-881819b94f6f",
   "metadata": {},
   "source": [
    "# 根据索引打印数组元素"
   ]
  },
  {
   "cell_type": "code",
   "execution_count": 6,
   "id": "ad9d4cb3-3dfe-4b5c-b7f1-e0f48c8089db",
   "metadata": {},
   "outputs": [
    {
     "name": "stdout",
     "output_type": "stream",
     "text": [
      "3\n",
      "3\n"
     ]
    }
   ],
   "source": [
    "print(arr1[2])\n",
    "print(arr1[-3])"
   ]
  },
  {
   "cell_type": "markdown",
   "id": "18ad76c4-b2b3-438e-8fc1-3f425d12461a",
   "metadata": {},
   "source": [
    "# 数组切片"
   ]
  },
  {
   "cell_type": "code",
   "execution_count": 7,
   "id": "bbb10c17-2211-48ae-9a32-5386be150a47",
   "metadata": {},
   "outputs": [
    {
     "data": {
      "text/plain": [
       "array([2, 3, 4])"
      ]
     },
     "execution_count": 7,
     "metadata": {},
     "output_type": "execute_result"
    }
   ],
   "source": [
    "arr1[1:4]"
   ]
  },
  {
   "cell_type": "markdown",
   "id": "0e5142e7-b548-4651-a656-7e5e939ee115",
   "metadata": {},
   "source": [
    "# 数组相加"
   ]
  },
  {
   "cell_type": "code",
   "execution_count": 8,
   "id": "53a3547d-5369-49c3-b572-1acf405ee644",
   "metadata": {},
   "outputs": [
    {
     "data": {
      "text/plain": [
       "array([ 2.,  3.,  4.,  5., 10.])"
      ]
     },
     "execution_count": 8,
     "metadata": {},
     "output_type": "execute_result"
    }
   ],
   "source": [
    "arr1 + arr2"
   ]
  },
  {
   "cell_type": "markdown",
   "id": "acfa9f6d-4f23-4760-8752-2bab5362e881",
   "metadata": {},
   "source": [
    "# 数组运算"
   ]
  },
  {
   "cell_type": "code",
   "execution_count": 9,
   "id": "861176f1-e9c3-4edf-9355-c724b80e6e04",
   "metadata": {},
   "outputs": [
    {
     "data": {
      "text/plain": [
       "array([ -5, -10, -15, -20, -45])"
      ]
     },
     "execution_count": 9,
     "metadata": {},
     "output_type": "execute_result"
    }
   ],
   "source": [
    "arr1 * -5"
   ]
  },
  {
   "cell_type": "markdown",
   "id": "5a217d92-5bc5-4aaa-af84-b62a79f87106",
   "metadata": {},
   "source": [
    "# 打印数组最大值、最小值、和、平均值"
   ]
  },
  {
   "cell_type": "code",
   "execution_count": 10,
   "id": "11eb89f3-fcbf-4885-a550-c949caa4297f",
   "metadata": {},
   "outputs": [
    {
     "name": "stdout",
     "output_type": "stream",
     "text": [
      "9\n",
      "1\n",
      "19\n",
      "3.8\n"
     ]
    }
   ],
   "source": [
    "print(arr1.max())\n",
    "print(arr1.min())\n",
    "print(arr1.sum())\n",
    "print(arr1.mean())"
   ]
  },
  {
   "cell_type": "markdown",
   "id": "94ee3ffe-0dee-4e81-852a-cd9e6adb808b",
   "metadata": {},
   "source": [
    "# 对数组进行逻辑操作"
   ]
  },
  {
   "cell_type": "code",
   "execution_count": 11,
   "id": "15ef8125-f925-412d-81e8-c85622bc41d9",
   "metadata": {},
   "outputs": [
    {
     "data": {
      "text/plain": [
       "array([4, 9])"
      ]
     },
     "execution_count": 11,
     "metadata": {},
     "output_type": "execute_result"
    }
   ],
   "source": [
    "arr1[(arr1<1)|(arr1>3)]"
   ]
  },
  {
   "cell_type": "code",
   "execution_count": null,
   "id": "cac83ab9-c6c7-4c04-8a7a-e7542688d1b9",
   "metadata": {},
   "outputs": [],
   "source": []
  }
 ],
 "metadata": {
  "kernelspec": {
   "display_name": "Python 3 (ipykernel)",
   "language": "python",
   "name": "python3"
  },
  "language_info": {
   "codemirror_mode": {
    "name": "ipython",
    "version": 3
   },
   "file_extension": ".py",
   "mimetype": "text/x-python",
   "name": "python",
   "nbconvert_exporter": "python",
   "pygments_lexer": "ipython3",
   "version": "3.12.2"
  }
 },
 "nbformat": 4,
 "nbformat_minor": 5
}
