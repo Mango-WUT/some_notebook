{
 "cells": [
  {
   "cell_type": "code",
   "execution_count": 1,
   "id": "e98da2e1-e6d8-4039-82c8-62ce0d699ded",
   "metadata": {},
   "outputs": [],
   "source": [
    "import numpy as np"
   ]
  },
  {
   "cell_type": "markdown",
   "id": "a03d6cda-458b-4d21-b5d7-16f3ff565aca",
   "metadata": {},
   "source": [
    "# 创建一维数组"
   ]
  },
  {
   "cell_type": "code",
   "execution_count": 2,
   "id": "f70d0b9d-addf-42b2-8a4d-8768573fb624",
   "metadata": {},
   "outputs": [
    {
     "data": {
      "text/plain": [
       "array([ 6,  2, -7,  2,  8, -2,  1])"
      ]
     },
     "execution_count": 2,
     "metadata": {},
     "output_type": "execute_result"
    }
   ],
   "source": [
    "arr1 = np.array([6,2,-7,2,8,-2,1])\n",
    "arr1"
   ]
  },
  {
   "cell_type": "markdown",
   "id": "bc25972f-2752-42ab-a981-24c0439ed562",
   "metadata": {},
   "source": [
    "# 创建二维数组"
   ]
  },
  {
   "cell_type": "code",
   "execution_count": 3,
   "id": "28adb535-1027-466c-881c-0a93acf6d1d9",
   "metadata": {},
   "outputs": [
    {
     "data": {
      "text/plain": [
       "array([[1, 3, 5],\n",
       "       [2, 4, 6]])"
      ]
     },
     "execution_count": 3,
     "metadata": {},
     "output_type": "execute_result"
    }
   ],
   "source": [
    "arr2 = np.array([[1,3,5],[2,4,6]])\n",
    "arr2"
   ]
  },
  {
   "cell_type": "markdown",
   "id": "5293acb9-39a7-4e37-b3aa-ff048c8a23d6",
   "metadata": {},
   "source": [
    "# 打印数组维度、形状、元素数量、元素类型"
   ]
  },
  {
   "cell_type": "code",
   "execution_count": 4,
   "id": "c7a06f06-02f4-4ba6-9745-be0a0bccb9b9",
   "metadata": {},
   "outputs": [
    {
     "name": "stdout",
     "output_type": "stream",
     "text": [
      "1\n",
      "2\n",
      "(7,)\n",
      "(2, 3)\n",
      "7\n",
      "6\n",
      "int64\n",
      "int64\n"
     ]
    }
   ],
   "source": [
    "print(arr1.ndim)\n",
    "print(arr2.ndim)\n",
    "print(arr1.shape)\n",
    "print(arr2.shape)\n",
    "print(arr1.size)\n",
    "print(arr2.size)\n",
    "print(arr1.dtype)\n",
    "print(arr2.dtype)"
   ]
  },
  {
   "cell_type": "markdown",
   "id": "aa0e8e04-ba3f-4d71-9ed9-6ddf9bc859bb",
   "metadata": {},
   "source": [
    "# 创建包含6个元素全为0的一维数组"
   ]
  },
  {
   "cell_type": "code",
   "execution_count": 5,
   "id": "e614093e-ff77-412a-8518-8f76cf44c737",
   "metadata": {},
   "outputs": [
    {
     "data": {
      "text/plain": [
       "array([0., 0., 0., 0., 0., 0.])"
      ]
     },
     "execution_count": 5,
     "metadata": {},
     "output_type": "execute_result"
    }
   ],
   "source": [
    "arr_all_0 = np.zeros(6)\n",
    "arr_all_0"
   ]
  },
  {
   "cell_type": "markdown",
   "id": "180bd805-2b21-4ed8-93bd-01fc1e750cc5",
   "metadata": {},
   "source": [
    "# 创建包含6个元素全为1的一维数组"
   ]
  },
  {
   "cell_type": "code",
   "execution_count": 6,
   "id": "326fdcd3-848c-47ee-911e-65301128c040",
   "metadata": {},
   "outputs": [
    {
     "data": {
      "text/plain": [
       "array([1., 1., 1., 1., 1., 1.])"
      ]
     },
     "execution_count": 6,
     "metadata": {},
     "output_type": "execute_result"
    }
   ],
   "source": [
    "arr_all_1 = np.ones(6)\n",
    "arr_all_1"
   ]
  },
  {
   "cell_type": "markdown",
   "id": "deb052a9-cffe-40e7-a2be-fc94aee8f0c4",
   "metadata": {},
   "source": [
    "# 创建一维数组，元素为10到20间的偶数"
   ]
  },
  {
   "cell_type": "code",
   "execution_count": 7,
   "id": "7e39364b-42df-4f92-8b91-21019a35b1e0",
   "metadata": {},
   "outputs": [
    {
     "data": {
      "text/plain": [
       "array([10, 12, 14, 16, 18, 20])"
      ]
     },
     "execution_count": 7,
     "metadata": {},
     "output_type": "execute_result"
    }
   ],
   "source": [
    "arr_even = np.arange(10,21,2)\n",
    "arr_even"
   ]
  },
  {
   "cell_type": "code",
   "execution_count": null,
   "id": "552a38c6-86df-4d01-9c61-06071c2d90ea",
   "metadata": {},
   "outputs": [],
   "source": []
  }
 ],
 "metadata": {
  "kernelspec": {
   "display_name": "Python 3 (ipykernel)",
   "language": "python",
   "name": "python3"
  },
  "language_info": {
   "codemirror_mode": {
    "name": "ipython",
    "version": 3
   },
   "file_extension": ".py",
   "mimetype": "text/x-python",
   "name": "python",
   "nbconvert_exporter": "python",
   "pygments_lexer": "ipython3",
   "version": "3.12.2"
  }
 },
 "nbformat": 4,
 "nbformat_minor": 5
}
