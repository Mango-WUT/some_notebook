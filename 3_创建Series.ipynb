{
 "cells": [
  {
   "cell_type": "code",
   "execution_count": 1,
   "id": "82b46397-7d77-469f-a208-d1d52a2debc8",
   "metadata": {},
   "outputs": [],
   "source": [
    "import pandas as pd"
   ]
  },
  {
   "cell_type": "markdown",
   "id": "084f3d33-6fb3-4129-b152-14f32a382d96",
   "metadata": {},
   "source": [
    "# 创建Serise"
   ]
  },
  {
   "cell_type": "code",
   "execution_count": 2,
   "id": "2522c66a-5323-4a85-83b2-284e9ea6476f",
   "metadata": {},
   "outputs": [
    {
     "data": {
      "text/plain": [
       "0   -1.2\n",
       "1    3.7\n",
       "2    2.5\n",
       "3   -8.2\n",
       "4    6.3\n",
       "dtype: float64"
      ]
     },
     "execution_count": 2,
     "metadata": {},
     "output_type": "execute_result"
    }
   ],
   "source": [
    "s1 = pd.Series([-1.2,3.7,2.5,-8.2,6.3])\n",
    "s1"
   ]
  },
  {
   "cell_type": "markdown",
   "id": "9119a08f-5330-4d4c-b114-b83b2cd857c7",
   "metadata": {},
   "source": [
    "# 打印s1的所有索引以及元素值"
   ]
  },
  {
   "cell_type": "code",
   "execution_count": 3,
   "id": "78115dd4-1321-4da9-808e-2ae4b6ef9b55",
   "metadata": {},
   "outputs": [
    {
     "name": "stdout",
     "output_type": "stream",
     "text": [
      "RangeIndex(start=0, stop=5, step=1)\n",
      "[-1.2  3.7  2.5 -8.2  6.3]\n"
     ]
    }
   ],
   "source": [
    "print(s1.index)\n",
    "print(s1.values)"
   ]
  },
  {
   "cell_type": "markdown",
   "id": "7b52126f-b6af-47f5-9894-101e7ac886bd",
   "metadata": {},
   "source": [
    "# 创建一个Series,给它一个数字标签"
   ]
  },
  {
   "cell_type": "code",
   "execution_count": 14,
   "id": "b4a294bf-d459-4c4b-bcde-5c4fda571c13",
   "metadata": {},
   "outputs": [
    {
     "data": {
      "text/plain": [
       "5    1\n",
       "4    2\n",
       "3    3\n",
       "2    4\n",
       "1    5\n",
       "dtype: int64"
      ]
     },
     "execution_count": 14,
     "metadata": {},
     "output_type": "execute_result"
    }
   ],
   "source": [
    "s2 = pd.Series([1,2,3,4,5],index = [5,4,3,2,1])\n",
    "s2"
   ]
  },
  {
   "cell_type": "markdown",
   "id": "53809ecc-b5c1-4a90-870d-98d92404a86a",
   "metadata": {},
   "source": [
    "# 输出s2里按位置顺序第2个元素"
   ]
  },
  {
   "cell_type": "code",
   "execution_count": 6,
   "id": "d170ca67-1986-4146-b7e7-cacab643fe06",
   "metadata": {},
   "outputs": [
    {
     "data": {
      "text/plain": [
       "np.int64(2)"
      ]
     },
     "execution_count": 6,
     "metadata": {},
     "output_type": "execute_result"
    }
   ],
   "source": [
    "s2.iloc[1]"
   ]
  },
  {
   "cell_type": "markdown",
   "id": "2b63d255-ab4f-4652-bf94-d34e1af06bb9",
   "metadata": {},
   "source": [
    "# 输出s2里按标签对应5到3(包括3)范围内的元素"
   ]
  },
  {
   "cell_type": "code",
   "execution_count": 16,
   "id": "8f06aec0-43ef-47aa-8b5b-33d8a759b841",
   "metadata": {},
   "outputs": [
    {
     "data": {
      "text/plain": [
       "5    1\n",
       "4    2\n",
       "3    3\n",
       "dtype: int64"
      ]
     },
     "execution_count": 16,
     "metadata": {},
     "output_type": "execute_result"
    }
   ],
   "source": [
    "s2.loc[5:3]"
   ]
  },
  {
   "cell_type": "markdown",
   "id": "b210cec3-6caa-41e9-9e52-fa5d54a70f0d",
   "metadata": {},
   "source": [
    "# 通过字典来创建Series"
   ]
  },
  {
   "cell_type": "code",
   "execution_count": 18,
   "id": "ddbe8cf0-9103-4f81-961f-cd8ed738d1fa",
   "metadata": {},
   "outputs": [
    {
     "data": {
      "text/plain": [
       "小李    82\n",
       "小陈    93\n",
       "小张    91\n",
       "小曾    78\n",
       "小邓    68\n",
       "dtype: int64"
      ]
     },
     "execution_count": 18,
     "metadata": {},
     "output_type": "execute_result"
    }
   ],
   "source": [
    "s3 = pd.Series({\"小李\":82,\"小陈\":93,\"小张\":91,\"小曾\":78,\"小邓\":68})\n",
    "s3"
   ]
  },
  {
   "cell_type": "markdown",
   "id": "c0499025-3299-4e63-a773-0eb6c32f8efd",
   "metadata": {},
   "source": [
    "# 修改标签对应的值\n"
   ]
  },
  {
   "cell_type": "code",
   "execution_count": 19,
   "id": "77785554-c419-4b99-bda4-8c51de147e9f",
   "metadata": {},
   "outputs": [
    {
     "data": {
      "text/plain": [
       "小李    82\n",
       "小陈    93\n",
       "小张    95\n",
       "小曾    78\n",
       "小邓    68\n",
       "dtype: int64"
      ]
     },
     "execution_count": 19,
     "metadata": {},
     "output_type": "execute_result"
    }
   ],
   "source": [
    "s3[\"小张\"] = 95\n",
    "s3"
   ]
  },
  {
   "cell_type": "markdown",
   "id": "7907917e-0fd4-46ad-aadc-45ad8c851c12",
   "metadata": {},
   "source": [
    "# Series逻辑操作\n"
   ]
  },
  {
   "cell_type": "code",
   "execution_count": 20,
   "id": "22ee6676-342b-40c6-84e7-abd61bb81e70",
   "metadata": {},
   "outputs": [
    {
     "data": {
      "text/plain": [
       "小李    82\n",
       "dtype: int64"
      ]
     },
     "execution_count": 20,
     "metadata": {},
     "output_type": "execute_result"
    }
   ],
   "source": [
    "s3[(s3>80) & (s3<90)]"
   ]
  },
  {
   "cell_type": "code",
   "execution_count": null,
   "id": "806f4cca-93f1-4ccc-8429-7c6f1554712c",
   "metadata": {},
   "outputs": [],
   "source": []
  }
 ],
 "metadata": {
  "kernelspec": {
   "display_name": "Python 3 (ipykernel)",
   "language": "python",
   "name": "python3"
  },
  "language_info": {
   "codemirror_mode": {
    "name": "ipython",
    "version": 3
   },
   "file_extension": ".py",
   "mimetype": "text/x-python",
   "name": "python",
   "nbconvert_exporter": "python",
   "pygments_lexer": "ipython3",
   "version": "3.12.2"
  }
 },
 "nbformat": 4,
 "nbformat_minor": 5
}
