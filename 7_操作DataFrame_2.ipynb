{
 "cells": [
  {
   "cell_type": "code",
   "execution_count": 2,
   "id": "1d887b8a-48ca-4137-a69b-f82038a658bb",
   "metadata": {},
   "outputs": [],
   "source": [
    "import pandas as pd\n",
    "import numpy as np"
   ]
  },
  {
   "cell_type": "markdown",
   "id": "67608458-98a8-42e1-9d9f-422b9f53a723",
   "metadata": {},
   "source": [
    "# 创建DataFrame"
   ]
  },
  {
   "cell_type": "code",
   "execution_count": 3,
   "id": "e73a15a8-ea74-46ac-bf6d-c6f9cd45fc71",
   "metadata": {},
   "outputs": [
    {
     "data": {
      "text/html": [
       "<div>\n",
       "<style scoped>\n",
       "    .dataframe tbody tr th:only-of-type {\n",
       "        vertical-align: middle;\n",
       "    }\n",
       "\n",
       "    .dataframe tbody tr th {\n",
       "        vertical-align: top;\n",
       "    }\n",
       "\n",
       "    .dataframe thead th {\n",
       "        text-align: right;\n",
       "    }\n",
       "</style>\n",
       "<table border=\"1\" class=\"dataframe\">\n",
       "  <thead>\n",
       "    <tr style=\"text-align: right;\">\n",
       "      <th></th>\n",
       "      <th>姓名</th>\n",
       "      <th>考试1</th>\n",
       "      <th>考试2</th>\n",
       "      <th>考试3</th>\n",
       "    </tr>\n",
       "  </thead>\n",
       "  <tbody>\n",
       "    <tr>\n",
       "      <th>001</th>\n",
       "      <td>小陈</td>\n",
       "      <td>85</td>\n",
       "      <td>95</td>\n",
       "      <td>92</td>\n",
       "    </tr>\n",
       "    <tr>\n",
       "      <th>002</th>\n",
       "      <td>小李</td>\n",
       "      <td>91</td>\n",
       "      <td>92</td>\n",
       "      <td>94</td>\n",
       "    </tr>\n",
       "    <tr>\n",
       "      <th>003</th>\n",
       "      <td>小王</td>\n",
       "      <td>86</td>\n",
       "      <td>81</td>\n",
       "      <td>89</td>\n",
       "    </tr>\n",
       "    <tr>\n",
       "      <th>004</th>\n",
       "      <td>小张</td>\n",
       "      <td>79</td>\n",
       "      <td>89</td>\n",
       "      <td>95</td>\n",
       "    </tr>\n",
       "    <tr>\n",
       "      <th>005</th>\n",
       "      <td>小赵</td>\n",
       "      <td>96</td>\n",
       "      <td>91</td>\n",
       "      <td>91</td>\n",
       "    </tr>\n",
       "    <tr>\n",
       "      <th>006</th>\n",
       "      <td>小周</td>\n",
       "      <td>81</td>\n",
       "      <td>89</td>\n",
       "      <td>92</td>\n",
       "    </tr>\n",
       "  </tbody>\n",
       "</table>\n",
       "</div>"
      ],
      "text/plain": [
       "     姓名 考试1 考试2 考试3\n",
       "001  小陈  85  95  92\n",
       "002  小李  91  92  94\n",
       "003  小王  86  81  89\n",
       "004  小张  79  89  95\n",
       "005  小赵  96  91  91\n",
       "006  小周  81  89  92"
      ]
     },
     "execution_count": 3,
     "metadata": {},
     "output_type": "execute_result"
    }
   ],
   "source": [
    "students_data = {\"001\":{\"姓名\":\"小陈\",\"考试1\":85,\"考试2\":95,\"考试3\":92},\"002\":{\"姓名\":\"小李\",\"考试1\":91,\"考试2\":92,\"考试3\":94},\"003\":{\"姓名\":\"小王\",\"考试1\":86,\"考试2\":81,\"考试3\":89},\"004\":{\"姓名\":\"小张\",\"考试1\":79,\"考试2\":89,\"考试3\":95},\"005\":{\"姓名\":\"小赵\",\"考试1\":96,\"考试2\":91,\"考试3\":91},\"006\":{\"姓名\":\"小周\",\"考试1\":81,\"考试2\":89,\"考试3\":92}}\n",
    "students = pd.DataFrame(students_data).T\n",
    "students"
   ]
  },
  {
   "cell_type": "markdown",
   "id": "e21a9254-b8c8-4bc6-baac-59ebcac182a8",
   "metadata": {},
   "source": [
    "# 创建一个DataFrame,索引为学号，列名为姓名，计算出三次考试平均值的结果列，列名为平均分\n"
   ]
  },
  {
   "cell_type": "code",
   "execution_count": 4,
   "id": "84c4ca01-f312-43c9-a9d6-aea075d13ba6",
   "metadata": {},
   "outputs": [
    {
     "data": {
      "text/html": [
       "<div>\n",
       "<style scoped>\n",
       "    .dataframe tbody tr th:only-of-type {\n",
       "        vertical-align: middle;\n",
       "    }\n",
       "\n",
       "    .dataframe tbody tr th {\n",
       "        vertical-align: top;\n",
       "    }\n",
       "\n",
       "    .dataframe thead th {\n",
       "        text-align: right;\n",
       "    }\n",
       "</style>\n",
       "<table border=\"1\" class=\"dataframe\">\n",
       "  <thead>\n",
       "    <tr style=\"text-align: right;\">\n",
       "      <th></th>\n",
       "      <th>姓名</th>\n",
       "      <th>平均分</th>\n",
       "    </tr>\n",
       "  </thead>\n",
       "  <tbody>\n",
       "    <tr>\n",
       "      <th>001</th>\n",
       "      <td>小陈</td>\n",
       "      <td>90.666667</td>\n",
       "    </tr>\n",
       "    <tr>\n",
       "      <th>002</th>\n",
       "      <td>小李</td>\n",
       "      <td>92.333333</td>\n",
       "    </tr>\n",
       "    <tr>\n",
       "      <th>003</th>\n",
       "      <td>小王</td>\n",
       "      <td>85.333333</td>\n",
       "    </tr>\n",
       "    <tr>\n",
       "      <th>004</th>\n",
       "      <td>小张</td>\n",
       "      <td>87.666667</td>\n",
       "    </tr>\n",
       "    <tr>\n",
       "      <th>005</th>\n",
       "      <td>小赵</td>\n",
       "      <td>92.666667</td>\n",
       "    </tr>\n",
       "    <tr>\n",
       "      <th>006</th>\n",
       "      <td>小周</td>\n",
       "      <td>87.333333</td>\n",
       "    </tr>\n",
       "  </tbody>\n",
       "</table>\n",
       "</div>"
      ],
      "text/plain": [
       "     姓名        平均分\n",
       "001  小陈  90.666667\n",
       "002  小李  92.333333\n",
       "003  小王  85.333333\n",
       "004  小张  87.666667\n",
       "005  小赵  92.666667\n",
       "006  小周  87.333333"
      ]
     },
     "execution_count": 4,
     "metadata": {},
     "output_type": "execute_result"
    }
   ],
   "source": [
    "average = students.loc[:,\"考试1\":\"考试3\"].mean(axis = 1)\n",
    "name = students[\"姓名\"]\n",
    "students_average = pd.DataFrame({\"姓名\":name,\"平均分\":average})\n",
    "students_average"
   ]
  },
  {
   "cell_type": "markdown",
   "id": "13ce50ac-dc8c-467c-a4e7-e207d10f2726",
   "metadata": {},
   "source": [
    "# 输出每次考试第二高的分数组成的Series,使用匿名函数\n"
   ]
  },
  {
   "cell_type": "code",
   "execution_count": 5,
   "id": "bc5be8d0-2675-409d-addf-7e8c9d8a05db",
   "metadata": {},
   "outputs": [
    {
     "data": {
      "text/plain": [
       "考试1    91\n",
       "考试2    92\n",
       "考试3    94\n",
       "dtype: int64"
      ]
     },
     "execution_count": 5,
     "metadata": {},
     "output_type": "execute_result"
    }
   ],
   "source": [
    "students.loc[:,\"考试1\":\"考试3\"].apply(lambda x:np.sort(x)[-2])"
   ]
  },
  {
   "cell_type": "markdown",
   "id": "56886edd-5d14-4277-a04c-f9b6f060ef87",
   "metadata": {},
   "source": [
    "# 根据评级规则输出每个学号对应的四次考试等级\n",
    "## 对每个元素应用函数，使用applymap()函数"
   ]
  },
  {
   "cell_type": "code",
   "execution_count": 7,
   "id": "95f38896-3e54-4a2b-98fd-758511dcd733",
   "metadata": {},
   "outputs": [
    {
     "data": {
      "text/html": [
       "<div>\n",
       "<style scoped>\n",
       "    .dataframe tbody tr th:only-of-type {\n",
       "        vertical-align: middle;\n",
       "    }\n",
       "\n",
       "    .dataframe tbody tr th {\n",
       "        vertical-align: top;\n",
       "    }\n",
       "\n",
       "    .dataframe thead th {\n",
       "        text-align: right;\n",
       "    }\n",
       "</style>\n",
       "<table border=\"1\" class=\"dataframe\">\n",
       "  <thead>\n",
       "    <tr style=\"text-align: right;\">\n",
       "      <th></th>\n",
       "      <th>考试1</th>\n",
       "      <th>考试2</th>\n",
       "      <th>考试3</th>\n",
       "    </tr>\n",
       "  </thead>\n",
       "  <tbody>\n",
       "    <tr>\n",
       "      <th>001</th>\n",
       "      <td>B+</td>\n",
       "      <td>A+</td>\n",
       "      <td>A</td>\n",
       "    </tr>\n",
       "    <tr>\n",
       "      <th>002</th>\n",
       "      <td>A</td>\n",
       "      <td>A</td>\n",
       "      <td>A</td>\n",
       "    </tr>\n",
       "    <tr>\n",
       "      <th>003</th>\n",
       "      <td>B+</td>\n",
       "      <td>B</td>\n",
       "      <td>B+</td>\n",
       "    </tr>\n",
       "    <tr>\n",
       "      <th>004</th>\n",
       "      <td>C+</td>\n",
       "      <td>B+</td>\n",
       "      <td>A+</td>\n",
       "    </tr>\n",
       "    <tr>\n",
       "      <th>005</th>\n",
       "      <td>A+</td>\n",
       "      <td>A</td>\n",
       "      <td>A</td>\n",
       "    </tr>\n",
       "    <tr>\n",
       "      <th>006</th>\n",
       "      <td>B</td>\n",
       "      <td>B+</td>\n",
       "      <td>A</td>\n",
       "    </tr>\n",
       "  </tbody>\n",
       "</table>\n",
       "</div>"
      ],
      "text/plain": [
       "    考试1 考试2 考试3\n",
       "001  B+  A+   A\n",
       "002   A   A   A\n",
       "003  B+   B  B+\n",
       "004  C+  B+  A+\n",
       "005  A+   A   A\n",
       "006   B  B+   A"
      ]
     },
     "execution_count": 7,
     "metadata": {},
     "output_type": "execute_result"
    }
   ],
   "source": [
    "def get_grade(score):\n",
    "\tif score >= 95:\n",
    "\t\treturn \"A+\"\n",
    "\telif score >= 90:\n",
    "\t\treturn \"A\"\n",
    "\telif score >= 85:\n",
    "\t\treturn \"B+\"\n",
    "\telif score >= 80:\n",
    "\t\treturn \"B\"\n",
    "\telif score >= 75:\n",
    "\t\treturn \"C+\"\n",
    "\telse:\n",
    "\t\treturn \"C\"\n",
    "students.loc[:,\"考试1\":\"考试3\"].map(get_grade)"
   ]
  },
  {
   "cell_type": "markdown",
   "id": "3dc2b450-1470-4b86-afd0-75f4943184c4",
   "metadata": {},
   "source": [
    "# 展示sdtudents每个分数数据列的统计信息\n"
   ]
  },
  {
   "cell_type": "code",
   "execution_count": 5,
   "id": "d588a34a-1c52-4f6a-b505-c69f21fc5d6f",
   "metadata": {},
   "outputs": [
    {
     "data": {
      "text/html": [
       "<div>\n",
       "<style scoped>\n",
       "    .dataframe tbody tr th:only-of-type {\n",
       "        vertical-align: middle;\n",
       "    }\n",
       "\n",
       "    .dataframe tbody tr th {\n",
       "        vertical-align: top;\n",
       "    }\n",
       "\n",
       "    .dataframe thead th {\n",
       "        text-align: right;\n",
       "    }\n",
       "</style>\n",
       "<table border=\"1\" class=\"dataframe\">\n",
       "  <thead>\n",
       "    <tr style=\"text-align: right;\">\n",
       "      <th></th>\n",
       "      <th>考试1</th>\n",
       "      <th>考试2</th>\n",
       "      <th>考试3</th>\n",
       "    </tr>\n",
       "  </thead>\n",
       "  <tbody>\n",
       "    <tr>\n",
       "      <th>count</th>\n",
       "      <td>6.000000</td>\n",
       "      <td>6.000000</td>\n",
       "      <td>6.000000</td>\n",
       "    </tr>\n",
       "    <tr>\n",
       "      <th>mean</th>\n",
       "      <td>86.333333</td>\n",
       "      <td>89.500000</td>\n",
       "      <td>92.166667</td>\n",
       "    </tr>\n",
       "    <tr>\n",
       "      <th>std</th>\n",
       "      <td>6.314006</td>\n",
       "      <td>4.722288</td>\n",
       "      <td>2.136976</td>\n",
       "    </tr>\n",
       "    <tr>\n",
       "      <th>min</th>\n",
       "      <td>79.000000</td>\n",
       "      <td>81.000000</td>\n",
       "      <td>89.000000</td>\n",
       "    </tr>\n",
       "    <tr>\n",
       "      <th>25%</th>\n",
       "      <td>82.000000</td>\n",
       "      <td>89.000000</td>\n",
       "      <td>91.250000</td>\n",
       "    </tr>\n",
       "    <tr>\n",
       "      <th>50%</th>\n",
       "      <td>85.500000</td>\n",
       "      <td>90.000000</td>\n",
       "      <td>92.000000</td>\n",
       "    </tr>\n",
       "    <tr>\n",
       "      <th>75%</th>\n",
       "      <td>89.750000</td>\n",
       "      <td>91.750000</td>\n",
       "      <td>93.500000</td>\n",
       "    </tr>\n",
       "    <tr>\n",
       "      <th>max</th>\n",
       "      <td>96.000000</td>\n",
       "      <td>95.000000</td>\n",
       "      <td>95.000000</td>\n",
       "    </tr>\n",
       "  </tbody>\n",
       "</table>\n",
       "</div>"
      ],
      "text/plain": [
       "             考试1        考试2        考试3\n",
       "count   6.000000   6.000000   6.000000\n",
       "mean   86.333333  89.500000  92.166667\n",
       "std     6.314006   4.722288   2.136976\n",
       "min    79.000000  81.000000  89.000000\n",
       "25%    82.000000  89.000000  91.250000\n",
       "50%    85.500000  90.000000  92.000000\n",
       "75%    89.750000  91.750000  93.500000\n",
       "max    96.000000  95.000000  95.000000"
      ]
     },
     "execution_count": 5,
     "metadata": {},
     "output_type": "execute_result"
    }
   ],
   "source": [
    "students[\"考试1\"] = students[\"考试1\"].astype('int')\n",
    "students[\"考试2\"] = students[\"考试2\"].astype('int')\n",
    "students[\"考试3\"] = students[\"考试3\"].astype('int')\n",
    "students.describe()"
   ]
  },
  {
   "cell_type": "code",
   "execution_count": null,
   "id": "c1631025-afc4-42a0-bb25-47bd8953bad1",
   "metadata": {},
   "outputs": [],
   "source": []
  }
 ],
 "metadata": {
  "kernelspec": {
   "display_name": "Python 3 (ipykernel)",
   "language": "python",
   "name": "python3"
  },
  "language_info": {
   "codemirror_mode": {
    "name": "ipython",
    "version": 3
   },
   "file_extension": ".py",
   "mimetype": "text/x-python",
   "name": "python",
   "nbconvert_exporter": "python",
   "pygments_lexer": "ipython3",
   "version": "3.12.2"
  }
 },
 "nbformat": 4,
 "nbformat_minor": 5
}
